{
  "nbformat": 4,
  "nbformat_minor": 0,
  "metadata": {
    "colab": {
      "provenance": [],
      "authorship_tag": "ABX9TyMKrvVaAAhMi8wpyxaQT6jU",
      "include_colab_link": true
    },
    "kernelspec": {
      "name": "python3",
      "display_name": "Python 3"
    },
    "language_info": {
      "name": "python"
    }
  },
  "cells": [
    {
      "cell_type": "markdown",
      "metadata": {
        "id": "view-in-github",
        "colab_type": "text"
      },
      "source": [
        "<a href=\"https://colab.research.google.com/github/praveen-katta/data-cleaning/blob/main/Copy_of_Untitled0.ipynb\" target=\"_parent\"><img src=\"https://colab.research.google.com/assets/colab-badge.svg\" alt=\"Open In Colab\"/></a>"
      ]
    },
    {
      "cell_type": "code",
      "source": [
        "import numpy as np\n",
        "import matplotlib.pyplot as plt\n",
        "from sklearn.linear_model import LinearRegression\n",
        "from sklearn.metrics import mean_squared_error\n",
        "model = LinearRegression()\n",
        "x = np.random.rand(20, 1) * 10\n",
        "y = 3 * x + 7 + np.random.randn(20, 1) * 2\n",
        "model.fit(x, y)\n",
        "y_pred = model.predict(x)\n",
        "mse = mean_squared_error(y, y_pred)\n",
        "print(f\"model coefficient: {model.coef_[0][0]}\")\n",
        "print(f\"model intercept: {model.intercept_[0]}\")\n",
        "print(f\"mean squared error: {mse}\")\n",
        "plt.scatter(x, y, color='blue', label='data points')\n",
        "plt.plot(x, y_pred, color='red', label='regression line')\n",
        "plt.title('linear regression')\n",
        "plt.xlabel('x')\n",
        "plt.ylabel('y')\n",
        "plt.legend()\n",
        "plt.show()"
      ],
      "metadata": {
        "colab": {
          "base_uri": "https://localhost:8080/",
          "height": 524
        },
        "id": "-uDRDiPYaU3d",
        "outputId": "4eb91563-9f87-4b00-d47e-d5afd72b6614"
      },
      "execution_count": null,
      "outputs": [
        {
          "output_type": "stream",
          "name": "stdout",
          "text": [
            "model coefficient: 2.7054950405387657\n",
            "model intercept: 7.958337156172194\n",
            "mean squared error: 5.398127269569708\n"
          ]
        },
        {
          "output_type": "display_data",
          "data": {
            "text/plain": [
              "<Figure size 640x480 with 1 Axes>"
            ],
            "image/png": "[encoded data removed]"
          },
          "metadata": {}
        }
      ]
    },
    {
      "cell_type": "code",
      "source": [
        "y = 3 * x + 7 + np.random.randn(20, 1) * 2\n",
        "print(y)"
      ],
      "metadata": {
        "colab": {
          "base_uri": "https://localhost:8080/"
        },
        "id": "5cSRvV-0eaGV",
        "outputId": "2b3aa6ab-f6f0-4e13-e31a-ca5301e243bb"
      },
      "execution_count": null,
      "outputs": [
        {
          "output_type": "stream",
          "name": "stdout",
          "text": [
            "[[27.88450306]\n",
            " [23.62809045]\n",
            " [14.02422601]\n",
            " [25.77208212]\n",
            " [23.18097583]\n",
            " [35.65038893]\n",
            " [13.95480457]\n",
            " [32.75959891]\n",
            " [32.26715601]\n",
            " [11.28133292]\n",
            " [ 8.60758027]\n",
            " [23.87734801]\n",
            " [ 6.30446238]\n",
            " [16.70958848]\n",
            " [29.08429018]\n",
            " [32.27313254]\n",
            " [32.26791582]\n",
            " [36.88793692]\n",
            " [13.32205248]\n",
            " [14.20722007]]\n"
          ]
        }
      ]
    },
    {
      "cell_type": "code",
      "source": [
        "x = np.random.rand(20, 1) * 10\n",
        "print(x)\n"
      ],
      "metadata": {
        "colab": {
          "base_uri": "https://localhost:8080/"
        },
        "id": "rBtkXy_bdxXt",
        "outputId": "e955b40f-5a4f-45cd-dded-852b7b8a04f9"
      },
      "execution_count": null,
      "outputs": [
        {
          "output_type": "stream",
          "name": "stdout",
          "text": [
            "[[6.4993622 ]\n",
            " [5.78593384]\n",
            " [3.06695804]\n",
            " [6.23456402]\n",
            " [5.88284711]\n",
            " [9.05542666]\n",
            " [1.41244749]\n",
            " [8.74815144]\n",
            " [7.49166565]\n",
            " [3.27966434]\n",
            " [0.12612417]\n",
            " [5.56270914]\n",
            " [0.49853446]\n",
            " [3.58561833]\n",
            " [8.09314701]\n",
            " [8.98600847]\n",
            " [8.44976068]\n",
            " [9.91906495]\n",
            " [1.36413144]\n",
            " [2.6397986 ]]\n"
          ]
        }
      ]
    },
    {
      "cell_type": "code",
      "source": [
        "prediction = model.predict([[22]])\n",
        "print(prediction)"
      ],
      "metadata": {
        "colab": {
          "base_uri": "https://localhost:8080/"
        },
        "id": "QxShHyygjjZb",
        "outputId": "1432f087-8694-4867-b0c4-c0474c4aa38f"
      },
      "execution_count": null,
      "outputs": [
        {
          "output_type": "stream",
          "name": "stdout",
          "text": [
            "[[70.84565644]]\n"
          ]
        }
      ]
    }
  ]
}